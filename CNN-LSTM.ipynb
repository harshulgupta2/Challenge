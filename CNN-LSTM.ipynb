{
 "cells": [
  {
   "cell_type": "code",
   "execution_count": 102,
   "metadata": {},
   "outputs": [
    {
     "name": "stderr",
     "output_type": "stream",
     "text": [
      "/opt/conda/lib/python2.7/site-packages/ipykernel_launcher.py:16: FutureWarning: convert_objects is deprecated.  To re-infer data dtypes for object columns, use DataFrame.infer_objects()\n",
      "For all other conversions use the data-type specific converters pd.to_datetime, pd.to_timedelta and pd.to_numeric.\n",
      "  app.launch_new_instance()\n"
     ]
    }
   ],
   "source": [
    "import pandas as pd \n",
    "import numpy as np\n",
    "import os\n",
    "from sklearn.model_selection import train_test_split\n",
    "import torch\n",
    "import torch.nn as nn\n",
    "import torchvision\n",
    "import torchvision.transforms as transforms\n",
    "from matplotlib import pyplot as plt\n",
    "import torch.utils.data as data_utils\n",
    "import itertools\n",
    "from sklearn.metrics import confusion_matrix\n",
    "\n",
    "path = \"/datasets/home/73/673/h6gupta/Challenge/challenge_dataset.csv\"\n",
    "data = pd.read_csv(path, header = None)\n",
    "data = data.convert_objects(convert_numeric=True)\n",
    "\n",
    "df1 = data.iloc[1:,2:16].values.reshape(205,89,14)\n",
    "df1 = np.moveaxis(df1, [1,2], [2,1])\n",
    "\n",
    "labels =[]\n",
    "for i in range(1,206):\n",
    "    labels.append(data.iloc[89*i,16])\n",
    "\n",
    "labels = np.asarray(labels).astype('int64')"
   ]
  },
  {
   "cell_type": "code",
   "execution_count": 103,
   "metadata": {},
   "outputs": [],
   "source": [
    "X_train = (df1 - np.mean(df1, axis=0)[None,:,:]) / np.std(df1, axis=0)[None,:,:]"
   ]
  },
  {
   "cell_type": "code",
   "execution_count": 104,
   "metadata": {},
   "outputs": [
    {
     "name": "stdout",
     "output_type": "stream",
     "text": [
      "<class 'torch.Tensor'>\n",
      "<class 'torch.Tensor'>\n",
      "(torch.Size([40, 1, 14, 89]), torch.Size([40]))\n"
     ]
    }
   ],
   "source": [
    "X_tr, X_vld, lab_tr, lab_vld = train_test_split(X_train, labels, stratify = labels, test_size = 0.15)\n",
    "\n",
    "y_tr = lab_tr\n",
    "y_vld = lab_vld\n",
    "\n",
    "img = torch.from_numpy(X_tr).float().unsqueeze(1).cuda()\n",
    "lbl = torch.from_numpy(y_tr).long().cuda()\n",
    "\n",
    "\n",
    "batch_size = 40\n",
    "\n",
    "train = data_utils.TensorDataset(img,lbl)\n",
    "data_loader = data_utils.DataLoader(train, batch_size = batch_size, shuffle = True)\n",
    "\n",
    "print(type(img))\n",
    "print(type(lbl))\n",
    "\n",
    "for i, j in data_loader:\n",
    "    print(i.shape, j.shape)\n",
    "    break\n"
   ]
  },
  {
   "cell_type": "code",
   "execution_count": 105,
   "metadata": {},
   "outputs": [],
   "source": [
    "import torch.nn.functional as F\n",
    "class LSTM(nn.Module):\n",
    "    def __init__(self, num_classes):\n",
    "        super(LSTM, self).__init__()\n",
    "        self.input_dim = 14\n",
    "        self.hidden_dim = 64\n",
    "        self.num_layers = 1\n",
    "        \n",
    "        self.layer1 = nn.Sequential(\n",
    "            nn.Conv2d(1,4, kernel_size=(3,14), stride=1, padding=1),\n",
    "            nn.BatchNorm2d( 4),\n",
    "            nn.ReLU())\n",
    "        \n",
    "        self.layer2 = nn.Sequential(\n",
    "            nn.Conv2d(1,4, kernel_size=(3,14), stride=1, padding=1),\n",
    "            nn.BatchNorm2d(4),\n",
    "            nn.ReLU())\n",
    "        \n",
    "        self.layer3 = nn.Sequential(\n",
    "            nn.Conv2d(1,4, kernel_size=(3,14), stride=1, padding=1),\n",
    "            nn.BatchNorm2d(4),\n",
    "            nn.ReLU())\n",
    "        \n",
    "        self.layer4 = nn.Sequential(\n",
    "            nn.Conv2d(1,4, kernel_size=(3,14), stride=1, padding=1),\n",
    "            nn.BatchNorm2d(4),\n",
    "            nn.ReLU())\n",
    "\n",
    "        # Define the LSTM layer\n",
    "        self.lstm = nn.LSTM(self.input_dim, self.hidden_dim, self.num_layers)\n",
    "\n",
    "        # Define the output layer\n",
    "        self.linear = nn.Linear(self.hidden_dim, num_classes)\n",
    "        \n",
    "    def init_hidden(self,batch_size):\n",
    "        return (torch.zeros(self.num_layers, batch_size, self.hidden_dim).cuda(),\n",
    "                torch.zeros(self.num_layers, batch_size, self.hidden_dim).cuda())\n",
    "        \n",
    "    def forward(self, X):\n",
    "        y = self.layer1(X)\n",
    "        y = y.transpose(1,2)\n",
    "#         print(y.shape)\n",
    "        y = F.max_pool2d(y, kernel_size = (4,1), stride = 1)\n",
    "        y = y.transpose(1,2)\n",
    "#         print(y.shape)\n",
    "        y = self.layer2(y)\n",
    "        y = y.transpose(1,2)\n",
    "        y = F.max_pool2d(y, kernel_size = (4,1), stride = 1)\n",
    "        y = y.transpose(1,2)\n",
    "        \n",
    "        y = self.layer3(y)\n",
    "        y = y.transpose(1,2)\n",
    "        y = F.max_pool2d(y, kernel_size = (4,1), stride = 1)\n",
    "        y = y.transpose(1,2)\n",
    "        \n",
    "        y = self.layer4(y)\n",
    "        y = y.transpose(1,2)\n",
    "        y = F.max_pool2d(y, kernel_size = (4,1), stride = 1)\n",
    "        y = y.transpose(1,2).squeeze(1)\n",
    "#         print(y.shape)\n",
    "        \n",
    "        y = y.transpose(1,0).transpose(0,2)\n",
    "        batch_size = y.shape[1]\n",
    "        output, self.hidden = self.lstm(y, self.hidden)\n",
    "        y = self.linear(output[-1].view(batch_size, -1))\n",
    "#         print(y.shape)\n",
    "        return y  \n",
    "\n",
    "def Network_Initialization(model):\n",
    "    if(type(model) == nn.Linear):\n",
    "        torch.nn.init.xavier_uniform_(model.weight)\n",
    "        model.bias.data.fill_(0.01)\n",
    "    if(type(model) == nn.Conv1d):\n",
    "        torch.nn.init.normal_(model.weight.data, 0.0, 0.01)\n",
    "    if(type(model) == nn.BatchNorm1d):\n",
    "        torch.nn.init.normal_(model.weight.data, 1.0, 0.01)\n",
    "        torch.nn.init.constant_(model.bias.data, 0.0)"
   ]
  },
  {
   "cell_type": "code",
   "execution_count": 108,
   "metadata": {},
   "outputs": [
    {
     "name": "stdout",
     "output_type": "stream",
     "text": [
      "Testing Accuracy: 0.29\n"
     ]
    },
    {
     "data": {
      "image/png": "[encoded data removed]",
      "text/plain": [
       "<Figure size 432x288 with 2 Axes>"
      ]
     },
     "metadata": {},
     "output_type": "display_data"
    }
   ],
   "source": [
    "num_epochs = 500\n",
    "model = LSTM(3).cuda()\n",
    "model.apply(Network_Initialization)\n",
    "loss_function = nn.CrossEntropyLoss()\n",
    "optimizer = torch.optim.Adam(model.parameters(), lr=0.0001)\n",
    "\n",
    "def accuracy(yinit_v1, lbl_v1):\n",
    "    return (torch.max(yinit_v1.data, 1)[1].long() == lbl_v1.data).sum().item()\n",
    "\n",
    "img_v1 = torch.from_numpy(X_vld).float().unsqueeze(1).cuda()\n",
    "lbl_v1 = torch.from_numpy(y_vld).long().cuda()\n",
    "model.hidden = model.init_hidden(img_v1.shape[0])\n",
    "yinit_v1 = model(img_v1)\n",
    "print(\"Testing Accuracy: {0:.2f}\".format(accuracy(yinit_v1, lbl_v1) / float(img_v1.shape[0])))\n",
    "\n",
    "\n",
    "preds= torch.max(yinit_v1.data, 1)[1].cpu().numpy()\n",
    "true = lbl_v1.data.cpu().numpy()\n",
    "Conf_Labels = [0,1,2]\n",
    "conf_matrix = confusion_matrix(true, preds, Conf_Labels)\n",
    "fig = plt.figure()\n",
    "ax = fig.add_subplot(111)\n",
    "cax = ax.matshow(conf_matrix)\n",
    "plt.title('Confusion matrix')\n",
    "fig.colorbar(cax)\n",
    "ax.set_xticklabels([''] + Conf_Labels)\n",
    "ax.set_yticklabels([''] + Conf_Labels)\n",
    "plt.xlabel('Predicted')\n",
    "plt.ylabel('True')\n",
    "\n",
    "for i, j in itertools.product(range(conf_matrix.shape[0]), range(conf_matrix.shape[1])):\n",
    "        plt.text(j, i, format(conf_matrix[i, j]),horizontalalignment=\"center\",color=\"white\", fontsize=18)\n",
    "plt.show()\n",
    "\n"
   ]
  },
  {
   "cell_type": "code",
   "execution_count": 109,
   "metadata": {},
   "outputs": [
    {
     "name": "stdout",
     "output_type": "stream",
     "text": [
      "(0, 1.104374647140503, 0.3218390804597701, 0.2903225806451613)\n",
      "Model File Saved !\n",
      "(10, 1.0944123268127441, 0.39080459770114945, 0.22580645161290322)\n",
      "(20, 1.0703626871109009, 0.4425287356321839, 0.3870967741935484)\n",
      "Model File Saved !\n",
      "(30, 1.0723121166229248, 0.47126436781609193, 0.45161290322580644)\n",
      "Model File Saved !\n",
      "(40, 1.0704866647720337, 0.5057471264367817, 0.41935483870967744)\n",
      "(50, 0.967883288860321, 0.5287356321839081, 0.3870967741935484)\n",
      "(60, 1.001979112625122, 0.5459770114942529, 0.45161290322580644)\n",
      "(70, 0.926595151424408, 0.5862068965517241, 0.41935483870967744)\n",
      "(80, 0.813774049282074, 0.6609195402298851, 0.6129032258064516)\n",
      "Model File Saved !\n",
      "(90, 0.6414315104484558, 0.6954022988505747, 0.5483870967741935)\n",
      "(100, 0.7158942222595215, 0.7068965517241379, 0.5483870967741935)\n",
      "(110, 0.8933200240135193, 0.7241379310344828, 0.6774193548387096)\n",
      "Model File Saved !\n",
      "(120, 0.6305855512619019, 0.7701149425287356, 0.6129032258064516)\n",
      "(130, 0.8133761286735535, 0.7413793103448276, 0.5483870967741935)\n",
      "(140, 0.6232479810714722, 0.7586206896551724, 0.5161290322580645)\n",
      "(150, 0.7109832167625427, 0.764367816091954, 0.4838709677419355)\n",
      "(160, 0.7317782044410706, 0.8103448275862069, 0.4838709677419355)\n",
      "(170, 0.3345639407634735, 0.7931034482758621, 0.5161290322580645)\n",
      "(180, 0.43501895666122437, 0.7988505747126436, 0.5161290322580645)\n",
      "(190, 0.5331305861473083, 0.8103448275862069, 0.5161290322580645)\n",
      "(200, 0.37090545892715454, 0.8390804597701149, 0.5161290322580645)\n",
      "(210, 0.39672142267227173, 0.8275862068965517, 0.5483870967741935)\n",
      "(220, 1.046224594116211, 0.8390804597701149, 0.5161290322580645)\n",
      "(230, 0.6726061701774597, 0.8448275862068966, 0.5161290322580645)\n",
      "(240, 0.7005771994590759, 0.8505747126436781, 0.5483870967741935)\n",
      "(250, 1.0160768032073975, 0.8620689655172413, 0.5483870967741935)\n",
      "(260, 0.3283707797527313, 0.8620689655172413, 0.5483870967741935)\n",
      "(270, 0.17164723575115204, 0.8505747126436781, 0.5806451612903226)\n",
      "(280, 0.1929238736629486, 0.867816091954023, 0.5483870967741935)\n",
      "(290, 0.21823455393314362, 0.8793103448275862, 0.5483870967741935)\n",
      "(300, 0.14320339262485504, 0.8735632183908046, 0.5161290322580645)\n",
      "(310, 0.9571561813354492, 0.8850574712643678, 0.5806451612903226)\n",
      "(320, 0.3856219947338104, 0.8908045977011494, 0.5483870967741935)\n",
      "(330, 0.7444270849227905, 0.8850574712643678, 0.5806451612903226)\n",
      "(340, 0.3757748603820801, 0.8908045977011494, 0.6129032258064516)\n",
      "(350, 0.3904433846473694, 0.8908045977011494, 0.6129032258064516)\n",
      "(360, 0.39460286498069763, 0.8735632183908046, 0.5483870967741935)\n",
      "(370, 0.8828916549682617, 0.9022988505747126, 0.5161290322580645)\n",
      "(380, 0.15843477845191956, 0.896551724137931, 0.5161290322580645)\n",
      "(390, 0.3997718393802643, 0.896551724137931, 0.6129032258064516)\n",
      "(400, 0.23590309917926788, 0.8908045977011494, 0.5806451612903226)\n",
      "(410, 0.4383738934993744, 0.9022988505747126, 0.4838709677419355)\n",
      "(420, 0.3410033583641052, 0.8908045977011494, 0.5161290322580645)\n",
      "(430, 0.30249977111816406, 0.8908045977011494, 0.5161290322580645)\n",
      "(440, 0.3998711109161377, 0.8735632183908046, 0.5161290322580645)\n",
      "(450, 0.10976029187440872, 0.8850574712643678, 0.5483870967741935)\n",
      "(460, 0.3588193356990814, 0.9137931034482759, 0.6451612903225806)\n",
      "(470, 0.21170343458652496, 0.9022988505747126, 0.6451612903225806)\n",
      "(480, 0.5235193371772766, 0.9080459770114943, 0.5483870967741935)\n",
      "(490, 0.10789918154478073, 0.9080459770114943, 0.5483870967741935)\n"
     ]
    }
   ],
   "source": [
    "mc = 0\n",
    "train_acc = []\n",
    "test_acc =  []\n",
    "acc = 0.0\n",
    "for epoch in range(num_epochs):\n",
    "    model.train()\n",
    "    mc = 0\n",
    "    for inp, out in data_loader:\n",
    "        model.zero_grad()\n",
    "        batch_size = inp.shape[0]\n",
    "        model.hidden = model.init_hidden(batch_size)\n",
    "    \n",
    "        pred = model(inp)\n",
    "    \n",
    "        loss = loss_function(pred, out)\n",
    "        loss.backward()\n",
    "        \n",
    "        optimizer.step()\n",
    "        mc += ((torch.max(pred.data, 1)[1].long() == out.data).sum().item())\n",
    "        \n",
    "    if epoch % 10 == 0:\n",
    "        model.eval()\n",
    "        model.hidden = model.init_hidden(img_v1.shape[0])\n",
    "        yinit_v1 = model(img_v1)\n",
    "        test_acc.append(((accuracy(yinit_v1, lbl_v1) / float(img_v1.shape[0]))))\n",
    "        train_acc.append(mc/float(img.shape[0]))\n",
    "        print(epoch, loss.item(), mc/float(img.shape[0]), (accuracy(yinit_v1, lbl_v1)/ float(img_v1.shape[0])))\n",
    "        \n",
    "        if((accuracy(yinit_v1, lbl_v1)/ float(img_v1.shape[0])) > acc ):\n",
    "            torch.save(model.state_dict(), 'CNN-LSTMModel.pth')\n",
    "            acc = (accuracy(yinit_v1, lbl_v1)/ float(img_v1.shape[0]))\n",
    "            print('Model File Saved !')"
   ]
  },
  {
   "cell_type": "code",
   "execution_count": 110,
   "metadata": {
    "scrolled": false
   },
   "outputs": [
    {
     "data": {
      "image/png": "[encoded data removed]",
      "text/plain": [
       "<Figure size 432x288 with 1 Axes>"
      ]
     },
     "metadata": {},
     "output_type": "display_data"
    }
   ],
   "source": [
    "t = np.arange(50)\n",
    "plt.plot(t, train_acc)\n",
    "plt.plot(t, test_acc)\n",
    "plt.legend(['Train_Accuracy', 'Testing_Accuracy'])\n",
    "plt.show()"
   ]
  },
  {
   "cell_type": "code",
   "execution_count": 111,
   "metadata": {},
   "outputs": [
    {
     "name": "stdout",
     "output_type": "stream",
     "text": [
      "Testing Accuracy: 0.52\n"
     ]
    }
   ],
   "source": [
    "model = LSTM(3).cuda()\n",
    "model.load_state_dict(torch.load('CNN-LSTMModel.pth'))\n",
    "\n",
    "batch_size = img_v1.shape[0]\n",
    "model.hidden = model.init_hidden(batch_size)\n",
    "yinit_v1 = model(img_v1)\n",
    "print(\"Testing Accuracy: {0:.2f}\".format(accuracy(yinit_v1, lbl_v1) / float(img_v1.shape[0])))"
   ]
  },
  {
   "cell_type": "code",
   "execution_count": 112,
   "metadata": {},
   "outputs": [
    {
     "data": {
      "image/png": "[encoded data removed]",
      "text/plain": [
       "<Figure size 432x288 with 2 Axes>"
      ]
     },
     "metadata": {},
     "output_type": "display_data"
    }
   ],
   "source": [
    "preds= torch.max(yinit_v1.data, 1)[1].cpu().numpy()\n",
    "true = lbl_v1.data.cpu().numpy()\n",
    "Conf_Labels = [0,1,2]\n",
    "conf_matrix = confusion_matrix(true, preds, Conf_Labels)\n",
    "fig = plt.figure()\n",
    "ax = fig.add_subplot(111)\n",
    "cax = ax.matshow(conf_matrix)\n",
    "plt.title('Confusion matrix')\n",
    "fig.colorbar(cax)\n",
    "ax.set_xticklabels([''] + Conf_Labels)\n",
    "ax.set_yticklabels([''] + Conf_Labels)\n",
    "plt.xlabel('Predicted')\n",
    "plt.ylabel('True')\n",
    "\n",
    "for i, j in itertools.product(range(conf_matrix.shape[0]), range(conf_matrix.shape[1])):\n",
    "        plt.text(j, i, format(conf_matrix[i, j]),horizontalalignment=\"center\",color=\"white\", fontsize=18)\n",
    "plt.show()"
   ]
  },
  {
   "cell_type": "code",
   "execution_count": null,
   "metadata": {},
   "outputs": [],
   "source": []
  }
 ],
 "metadata": {
  "kernelspec": {
   "display_name": "Python 2",
   "language": "python",
   "name": "python2"
  },
  "language_info": {
   "codemirror_mode": {
    "name": "ipython",
    "version": 2
   },
   "file_extension": ".py",
   "mimetype": "text/x-python",
   "name": "python",
   "nbconvert_exporter": "python",
   "pygments_lexer": "ipython2",
   "version": "2.7.14"
  }
 },
 "nbformat": 4,
 "nbformat_minor": 2
}
