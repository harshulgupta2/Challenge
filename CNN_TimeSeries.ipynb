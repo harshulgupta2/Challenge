{
 "cells": [
  {
   "cell_type": "code",
   "execution_count": null,
   "metadata": {},
   "outputs": [],
   "source": [
    "import pandas as pd \n",
    "import numpy as np\n",
    "import os\n",
    "from sklearn.model_selection import train_test_split\n",
    "import torch\n",
    "import torch.nn as nn\n",
    "import torchvision\n",
    "import torchvision.transforms as transforms\n",
    "from matplotlib import pyplot as plt\n",
    "import torch.utils.data as data_utils\n",
    "import itertools\n",
    "from sklearn.metrics import confusion_matrix\n",
    "\n",
    "path = \"/datasets/home/73/673/h6gupta/Challenge/challenge_dataset.csv\"\n",
    "data = pd.read_csv(path, header = None)\n",
    "data = data.convert_objects(convert_numeric=True)\n",
    "\n",
    "df1 = data.iloc[1:,2:16].values.reshape(205,89,14)\n",
    "\n",
    "df1 = np.moveaxis(df1, [1,2], [2,1])\n",
    "\n",
    "labels =[]\n",
    "for i in range(1,206):\n",
    "    labels.append(data.iloc[89*i,16])\n",
    "\n",
    "labels = np.asarray(labels).astype('int64')\n",
    "print(labels.shape)\n",
    "print(df1.shape)"
   ]
  },
  {
   "cell_type": "code",
   "execution_count": null,
   "metadata": {},
   "outputs": [],
   "source": [
    "X_train = (df1 - np.mean(df1, axis=0)[None,:,:]) / np.std(df1, axis=0)[None,:,:]"
   ]
  },
  {
   "cell_type": "code",
   "execution_count": null,
   "metadata": {},
   "outputs": [],
   "source": [
    "X_tr, X_vld, lab_tr, lab_vld = train_test_split(X_train, labels, stratify = labels, test_size = 0.15)\n",
    "\n",
    "def one_hot(labels, n_class = 3):\n",
    "    \"\"\" One-hot encoding \"\"\"\n",
    "    expansion = np.eye(n_class)\n",
    "    y = expansion[:, labels-1].T\n",
    "    assert y.shape[1] == n_class, \"Wrong number of labels!\"\n",
    "    return y\n",
    "\n",
    "y_tr = one_hot(lab_tr)\n",
    "y_vld = one_hot(lab_vld)\n",
    "\n",
    "img = torch.from_numpy(X_tr).float()\n",
    "lbl = torch.from_numpy(y_tr).float()\n",
    "\n",
    "\n",
    "batch_size = 40\n",
    "\n",
    "train = data_utils.TensorDataset(img,lbl)\n",
    "data_loader = data_utils.DataLoader(train, batch_size = batch_size, shuffle = True)\n",
    "print(img.size())\n",
    "print(lbl.size())\n",
    "print(type(img))\n",
    "print(type(lbl))\n"
   ]
  },
  {
   "cell_type": "code",
   "execution_count": 4,
   "metadata": {},
   "outputs": [],
   "source": [
    "#Hyperparameters\n",
    "\n",
    "batch_size = 40       # Batch size\n",
    "seq_len = 89          # Number of steps\n",
    "learning_rate = 0.0001\n",
    "num_epochs = 50\n",
    "n_classes = 3\n",
    "n_channels = 14\n",
    "\n",
    "def cross_entropy(input, target):\n",
    "    logsoftmax = nn.LogSoftmax(dim = 1)\n",
    "    return torch.mean(torch.mean(-target * logsoftmax(input), dim=1))\n"
   ]
  },
  {
   "cell_type": "code",
   "execution_count": 17,
   "metadata": {},
   "outputs": [],
   "source": [
    "# Convolutional neural network (two convolutional layers)\n",
    "class ConvNet(nn.Module):\n",
    "    def __init__(self, num_classes=3):\n",
    "        super(ConvNet, self).__init__()\n",
    "        self.layer1 = nn.Sequential(\n",
    "            nn.Conv1d(n_channels, 2*n_channels, kernel_size=3, stride=1, padding=1),\n",
    "            nn.BatchNorm1d(2*n_channels),\n",
    "            nn.ReLU(),\n",
    "            nn.MaxPool1d(kernel_size=3, stride=2))  # 44\n",
    "        self.layer2 = nn.Sequential(\n",
    "            nn.Conv1d(2*n_channels,  4*n_channels, kernel_size=3, stride=1, padding=1),\n",
    "            nn.BatchNorm1d(4*n_channels),\n",
    "            nn.ReLU(),\n",
    "            nn.MaxPool1d(kernel_size=2, stride=2)) # 22\n",
    "        \n",
    "        self.layer3 = nn.Sequential(\n",
    "            nn.Conv1d(4*n_channels,  8*n_channels, kernel_size=3, stride=1, padding=1),\n",
    "            nn.BatchNorm1d(8*n_channels),\n",
    "            nn.ReLU(),\n",
    "            nn.MaxPool1d(kernel_size=2, stride=2)) ## 11\n",
    "            \n",
    "        self.layer4 = nn.Sequential(\n",
    "            nn.Conv1d(8*n_channels,  16*n_channels, kernel_size=3, stride=1, padding=1),\n",
    "            nn.BatchNorm1d(16*n_channels),\n",
    "            nn.ReLU(),\n",
    "            nn.MaxPool1d(kernel_size=3, stride=2)) # 5\n",
    "        \n",
    "        self.layer5 = nn.Sequential(nn.Linear(5*16*n_channels, num_classes),nn.Softmax())\n",
    "        \n",
    "    def forward(self, x):\n",
    "        out = self.layer1(x)\n",
    "        out = self.layer2(out)\n",
    "        out = self.layer3(out)\n",
    "        out = self.layer4(out)\n",
    "        out = out.reshape(out.size(0), -1)\n",
    "        out = self.layer5(out)\n",
    "        return out\n",
    "\n",
    "    \n",
    "def Network_Initialization(model):\n",
    "    if(type(model) == nn.Linear):\n",
    "        torch.nn.init.xavier_uniform_(model.weight)\n",
    "        model.bias.data.fill_(0.01)\n",
    "    if(type(model) == nn.Conv1d):\n",
    "        torch.nn.init.normal_(model.weight.data, 0.0, 0.01)\n",
    "    if(type(model) == nn.BatchNorm1d):\n",
    "        torch.nn.init.normal_(model.weight.data, 1.0, 0.01)\n",
    "        torch.nn.init.constant_(model.bias.data, 0.0)\n",
    "        \n",
    "        \n",
    "model = ConvNet(n_classes)\n",
    "model.apply(Network_Initialization)\n",
    "optimizer = torch.optim.Adam(model.parameters(), lr=learning_rate) \n",
    "yinit = model(img)"
   ]
  },
  {
   "cell_type": "code",
   "execution_count": 18,
   "metadata": {},
   "outputs": [
    {
     "name": "stdout",
     "output_type": "stream",
     "text": [
      "Testing Accuracy: 0.23\n"
     ]
    },
    {
     "data": {
      "image/png": "[encoded data removed]",
      "text/plain": [
       "<Figure size 432x288 with 2 Axes>"
      ]
     },
     "metadata": {},
     "output_type": "display_data"
    }
   ],
   "source": [
    "def accuracy(yinit, lbl):\n",
    "    _, predicted = torch.max(yinit.data, 1)\n",
    "    classifications = ((predicted == torch.max(lbl.data, 1)[1]).sum().item())\n",
    "    return classifications\n",
    "\n",
    "img_v1 = torch.from_numpy(X_vld).float()\n",
    "lbl_v1 = torch.from_numpy(y_vld).float()\n",
    "yinit_v1 = model(img_v1)\n",
    "\n",
    "print(\"Testing Accuracy: {0:.2f}\".format(accuracy(yinit_v1, lbl_v1) / float(img_v1.shape[0])))\n",
    "\n",
    "preds= torch.max(yinit_v1.data, 1)[1].numpy()\n",
    "true = torch.max(lbl_v1.data, 1)[1].numpy()\n",
    "Conf_Labels = [0,1,2]\n",
    "conf_matrix = confusion_matrix(true, preds, Conf_Labels)\n",
    "fig = plt.figure()\n",
    "ax = fig.add_subplot(111)\n",
    "cax = ax.matshow(conf_matrix)\n",
    "plt.title('Confusion matrix')\n",
    "fig.colorbar(cax)\n",
    "ax.set_xticklabels([''] + Conf_Labels)\n",
    "ax.set_yticklabels([''] + Conf_Labels)\n",
    "plt.xlabel('Predicted')\n",
    "plt.ylabel('True')\n",
    "\n",
    "for i, j in itertools.product(range(conf_matrix.shape[0]), range(conf_matrix.shape[1])):\n",
    "        plt.text(j, i, format(conf_matrix[i, j]),horizontalalignment=\"center\",color=\"white\", fontsize=18)\n",
    "plt.show()"
   ]
  },
  {
   "cell_type": "code",
   "execution_count": 19,
   "metadata": {},
   "outputs": [
    {
     "name": "stdout",
     "output_type": "stream",
     "text": [
      "(0, 0.34807732701301575, 0.367816091954023, 0.6774193548387096)\n",
      "Model File Saved !\n",
      "(1, 0.331714004278183, 0.632183908045977, 0.6129032258064516)\n",
      "(2, 0.31115078926086426, 0.7413793103448276, 0.6451612903225806)\n",
      "(3, 0.26165100932121277, 0.764367816091954, 0.6129032258064516)\n",
      "(4, 0.26178985834121704, 0.8103448275862069, 0.5806451612903226)\n",
      "(5, 0.2400638312101364, 0.8620689655172413, 0.6451612903225806)\n",
      "(6, 0.3185662627220154, 0.8563218390804598, 0.6774193548387096)\n",
      "(7, 0.2362857162952423, 0.8908045977011494, 0.6129032258064516)\n",
      "(8, 0.219832181930542, 0.9137931034482759, 0.6451612903225806)\n",
      "(9, 0.22191493213176727, 0.9252873563218391, 0.6774193548387096)\n",
      "(10, 0.20568633079528809, 0.9482758620689655, 0.6451612903225806)\n",
      "(11, 0.2605264186859131, 0.9195402298850575, 0.7096774193548387)\n",
      "Model File Saved !\n",
      "(12, 0.24143251776695251, 0.9482758620689655, 0.6774193548387096)\n",
      "(13, 0.21673741936683655, 0.9597701149425287, 0.7096774193548387)\n",
      "(14, 0.21444019675254822, 0.9655172413793104, 0.7741935483870968)\n",
      "Model File Saved !\n",
      "(15, 0.20210030674934387, 0.9770114942528736, 0.6774193548387096)\n",
      "(16, 0.20966359972953796, 0.9770114942528736, 0.6451612903225806)\n",
      "(17, 0.20777854323387146, 0.9885057471264368, 0.7741935483870968)\n",
      "(18, 0.20514404773712158, 0.9885057471264368, 0.7419354838709677)\n",
      "(19, 0.2059958279132843, 0.9827586206896551, 0.7419354838709677)\n",
      "(20, 0.1980414241552353, 0.9885057471264368, 0.6774193548387096)\n",
      "(21, 0.18964551389217377, 0.9885057471264368, 0.7096774193548387)\n",
      "(22, 0.22470583021640778, 0.9942528735632183, 0.6774193548387096)\n",
      "(23, 0.1890552043914795, 0.9885057471264368, 0.6774193548387096)\n",
      "(24, 0.20342524349689484, 0.9942528735632183, 0.6774193548387096)\n",
      "(25, 0.23247754573822021, 0.9885057471264368, 0.7096774193548387)\n",
      "(26, 0.1948373019695282, 1.0, 0.7419354838709677)\n",
      "(27, 0.1971571445465088, 1.0, 0.7096774193548387)\n",
      "(28, 0.2116013914346695, 0.9942528735632183, 0.6774193548387096)\n",
      "(29, 0.18591739237308502, 1.0, 0.6774193548387096)\n",
      "(30, 0.20629073679447174, 1.0, 0.6451612903225806)\n",
      "(31, 0.20791126787662506, 0.9942528735632183, 0.6774193548387096)\n",
      "(32, 0.19460661709308624, 1.0, 0.6774193548387096)\n",
      "(33, 0.21018607914447784, 0.9942528735632183, 0.7096774193548387)\n",
      "(34, 0.19833782315254211, 1.0, 0.7096774193548387)\n",
      "(35, 0.18724815547466278, 1.0, 0.6774193548387096)\n",
      "(36, 0.2003760188817978, 1.0, 0.6774193548387096)\n",
      "(37, 0.1890503317117691, 1.0, 0.7419354838709677)\n",
      "(38, 0.18735381960868835, 1.0, 0.7419354838709677)\n",
      "(39, 0.18816137313842773, 1.0, 0.7741935483870968)\n",
      "(40, 0.21317443251609802, 0.9942528735632183, 0.7419354838709677)\n",
      "(41, 0.18932239711284637, 1.0, 0.7096774193548387)\n",
      "(42, 0.1867281049489975, 1.0, 0.7419354838709677)\n",
      "(43, 0.20223350822925568, 1.0, 0.7419354838709677)\n",
      "(44, 0.19241447746753693, 1.0, 0.6774193548387096)\n",
      "(45, 0.18938417732715607, 1.0, 0.7096774193548387)\n",
      "(46, 0.1865825206041336, 1.0, 0.6774193548387096)\n",
      "(47, 0.19145163893699646, 1.0, 0.7096774193548387)\n",
      "(48, 0.19060416519641876, 1.0, 0.7096774193548387)\n",
      "(49, 0.18445833027362823, 1.0, 0.7419354838709677)\n"
     ]
    }
   ],
   "source": [
    "train_acc = []\n",
    "test_acc =  []\n",
    "acc = 0\n",
    "for epoch in range(num_epochs):\n",
    "    mc = 0\n",
    "    for i, (images, labels) in enumerate(data_loader):\n",
    "        outputs = model(images)\n",
    "        loss = cross_entropy(outputs,labels)\n",
    "        optimizer.zero_grad()\n",
    "        loss.backward()\n",
    "        optimizer.step()\n",
    "        mc += accuracy(outputs, labels)\n",
    "\n",
    "    yinit_v1 = model(img_v1)\n",
    "    test_acc.append(accuracy(yinit_v1, lbl_v1) / float(img_v1.shape[0]))\n",
    "    train_acc.append(mc/float(img.shape[0]))\n",
    "    print(epoch, loss.item(), mc/float(img.shape[0]), accuracy(yinit_v1, lbl_v1) / float(img_v1.shape[0]))\n",
    "    \n",
    "    if((accuracy(yinit_v1, lbl_v1)/ float(img_v1.shape[0])) > acc ):\n",
    "        torch.save(model.state_dict(), 'CNNModel.pth')\n",
    "        acc = (accuracy(yinit_v1, lbl_v1)/ float(img_v1.shape[0]))\n",
    "        print('Model File Saved !')"
   ]
  },
  {
   "cell_type": "code",
   "execution_count": 20,
   "metadata": {},
   "outputs": [
    {
     "data": {
      "image/png": "[encoded data removed]",
      "text/plain": [
       "<Figure size 432x288 with 1 Axes>"
      ]
     },
     "metadata": {},
     "output_type": "display_data"
    }
   ],
   "source": [
    "t = np.arange(num_epochs)\n",
    "plt.plot(t, train_acc)\n",
    "plt.plot(t, test_acc)\n",
    "plt.legend(['Train_Accuracy', 'Testing_Accuracy'])\n",
    "plt.show()"
   ]
  },
  {
   "cell_type": "code",
   "execution_count": 21,
   "metadata": {},
   "outputs": [
    {
     "name": "stdout",
     "output_type": "stream",
     "text": [
      "Testing Accuracy: 0.77\n"
     ]
    }
   ],
   "source": [
    "model = ConvNet(n_classes)\n",
    "model.load_state_dict(torch.load('CNNModel.pth'))\n",
    "yinit_v1 = model(img_v1)\n",
    "print(\"Testing Accuracy: {0:.2f}\".format(accuracy(yinit_v1, lbl_v1) / float(img_v1.shape[0])))"
   ]
  },
  {
   "cell_type": "code",
   "execution_count": 22,
   "metadata": {},
   "outputs": [
    {
     "data": {
      "image/png": "[encoded data removed]",
      "text/plain": [
       "<Figure size 432x288 with 2 Axes>"
      ]
     },
     "metadata": {},
     "output_type": "display_data"
    }
   ],
   "source": [
    "preds= torch.max(yinit_v1.data, 1)[1].numpy()\n",
    "true = torch.max(lbl_v1.data, 1)[1].numpy()\n",
    "Conf_Labels = [0,1,2]\n",
    "conf_matrix = confusion_matrix(true, preds, Conf_Labels)\n",
    "fig = plt.figure()\n",
    "ax = fig.add_subplot(111)\n",
    "cax = ax.matshow(conf_matrix)\n",
    "plt.title('Confusion matrix')\n",
    "fig.colorbar(cax)\n",
    "ax.set_xticklabels([''] + Conf_Labels)\n",
    "ax.set_yticklabels([''] + Conf_Labels)\n",
    "plt.xlabel('Predicted')\n",
    "plt.ylabel('True')\n",
    "\n",
    "for i, j in itertools.product(range(conf_matrix.shape[0]), range(conf_matrix.shape[1])):\n",
    "        plt.text(j, i, format(conf_matrix[i, j]),horizontalalignment=\"center\",color=\"white\", fontsize=18)\n",
    "plt.show()"
   ]
  },
  {
   "cell_type": "code",
   "execution_count": null,
   "metadata": {},
   "outputs": [],
   "source": []
  }
 ],
 "metadata": {
  "kernelspec": {
   "display_name": "Python 2",
   "language": "python",
   "name": "python2"
  },
  "language_info": {
   "codemirror_mode": {
    "name": "ipython",
    "version": 2
   },
   "file_extension": ".py",
   "mimetype": "text/x-python",
   "name": "python",
   "nbconvert_exporter": "python",
   "pygments_lexer": "ipython2",
   "version": "2.7.14"
  }
 },
 "nbformat": 4,
 "nbformat_minor": 2
}
