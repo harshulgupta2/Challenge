{
 "cells": [
  {
   "cell_type": "code",
   "execution_count": 336,
   "metadata": {},
   "outputs": [
    {
     "name": "stderr",
     "output_type": "stream",
     "text": [
      "/opt/conda/lib/python2.7/site-packages/ipykernel_launcher.py:16: FutureWarning: convert_objects is deprecated.  To re-infer data dtypes for object columns, use DataFrame.infer_objects()\n",
      "For all other conversions use the data-type specific converters pd.to_datetime, pd.to_timedelta and pd.to_numeric.\n",
      "  app.launch_new_instance()\n"
     ]
    }
   ],
   "source": [
    "import pandas as pd \n",
    "import numpy as np\n",
    "import os\n",
    "from sklearn.model_selection import train_test_split\n",
    "import torch\n",
    "import torch.nn as nn\n",
    "import torchvision\n",
    "import torchvision.transforms as transforms\n",
    "from matplotlib import pyplot as plt\n",
    "import torch.utils.data as data_utils\n",
    "import itertools\n",
    "from sklearn.metrics import confusion_matrix\n",
    "\n",
    "path = \"/datasets/home/73/673/h6gupta/Challenge/challenge_dataset.csv\"\n",
    "data = pd.read_csv(path, header = None)\n",
    "data = data.convert_objects(convert_numeric=True)\n",
    "\n",
    "df1 = data.iloc[1:,2:16].values.reshape(205,89,14)\n",
    "df1 = np.moveaxis(df1, [1,2], [2,1])\n",
    "\n",
    "labels =[]\n",
    "for i in range(1,206):\n",
    "    labels.append(data.iloc[89*i,16])\n",
    "\n",
    "labels = np.asarray(labels).astype('int64')"
   ]
  },
  {
   "cell_type": "code",
   "execution_count": 337,
   "metadata": {},
   "outputs": [],
   "source": [
    "X_train = (df1 - np.mean(df1, axis=0)[None,:,:]) / np.std(df1, axis=0)[None,:,:]"
   ]
  },
  {
   "cell_type": "code",
   "execution_count": 338,
   "metadata": {},
   "outputs": [
    {
     "name": "stdout",
     "output_type": "stream",
     "text": [
      "torch.Size([174, 14, 89])\n",
      "torch.Size([174])\n",
      "<class 'torch.Tensor'>\n",
      "<class 'torch.Tensor'>\n"
     ]
    }
   ],
   "source": [
    "X_tr, X_vld, lab_tr, lab_vld = train_test_split(X_train, labels, stratify = labels, test_size = 0.15)\n",
    "y_tr = lab_tr\n",
    "y_vld = lab_vld\n",
    "\n",
    "img = torch.from_numpy(X_tr).float().cuda()\n",
    "lbl = torch.from_numpy(y_tr).long().cuda()\n",
    "\n",
    "\n",
    "batch_size = 40\n",
    "\n",
    "train = data_utils.TensorDataset(img,lbl)\n",
    "data_loader = data_utils.DataLoader(train, batch_size = batch_size, shuffle = True)\n",
    "print(img.size())\n",
    "print(lbl.size())\n",
    "print(type(img))\n",
    "print(type(lbl))\n"
   ]
  },
  {
   "cell_type": "code",
   "execution_count": 342,
   "metadata": {},
   "outputs": [],
   "source": [
    "class LSTM(nn.Module):\n",
    "    def __init__(self, num_classes):\n",
    "        super(LSTM, self).__init__()\n",
    "        self.input_dim = 14\n",
    "        self.hidden_dim = 64\n",
    "        self.num_layers = 1\n",
    "\n",
    "        # Define the LSTM layer\n",
    "        self.lstm = nn.LSTM(self.input_dim, self.hidden_dim, self.num_layers)\n",
    "\n",
    "        # Define the output layer\n",
    "        self.linear = nn.Linear(self.hidden_dim, num_classes)\n",
    "        \n",
    "    def init_hidden(self, batch_size):\n",
    "        # This is what we'll initialise our hidden state as\n",
    "        return (torch.randn(self.num_layers, batch_size, self.hidden_dim).cuda(),\n",
    "                torch.randn(self.num_layers, batch_size, self.hidden_dim).cuda())\n",
    "        \n",
    "    def forward(self, X):\n",
    "        batch_size = X.shape[1]\n",
    "        output, self.hidden = self.lstm(X, self.hidden)\n",
    "        y = self.linear(output[-1].view(batch_size, -1))\n",
    "        #y = self.softmax(y)\n",
    "        return y        "
   ]
  },
  {
   "cell_type": "code",
   "execution_count": 343,
   "metadata": {},
   "outputs": [],
   "source": [
    "num_epochs = 1001\n",
    "model = LSTM(3).cuda()\n",
    "loss_function = nn.CrossEntropyLoss()\n",
    "optimizer = torch.optim.Adam(model.parameters(), lr=0.0001)\n",
    "\n",
    "def lr_decay(optimizer, epoch, init_lr=0.001, lr_decay_epoch=400):\n",
    "    lr = init_lr * (0.1**(epoch // lr_decay_epoch))\n",
    "    for param_group in optimizer.param_groups:\n",
    "        param_group['lr'] = lr\n",
    "    return optimizer"
   ]
  },
  {
   "cell_type": "code",
   "execution_count": 344,
   "metadata": {},
   "outputs": [
    {
     "name": "stdout",
     "output_type": "stream",
     "text": [
      "Testing Accuracy: 0.23\n"
     ]
    },
    {
     "data": {
      "image/png": "[encoded data removed]",
      "text/plain": [
       "<Figure size 432x288 with 2 Axes>"
      ]
     },
     "metadata": {},
     "output_type": "display_data"
    }
   ],
   "source": [
    "def accuracy(yinit_v1, lbl_v1):\n",
    "    return (torch.max(yinit_v1.data, 1)[1].long() == lbl_v1.data).sum().item()\n",
    "\n",
    "img_v1 = torch.from_numpy(X_vld).float().cuda()\n",
    "lbl_v1 = torch.from_numpy(y_vld).long().cuda()\n",
    "model.hidden = model.init_hidden(img_v1.shape[0])\n",
    "yinit_v1 = model(img_v1.transpose(1,0).transpose(0,2))\n",
    "print(\"Testing Accuracy: {0:.2f}\".format(accuracy(yinit_v1, lbl_v1) / float(img_v1.shape[0])))\n",
    "\n",
    "\n",
    "preds= torch.max(yinit_v1.data, 1)[1].cpu().numpy()\n",
    "true = lbl_v1.data.cpu().numpy()\n",
    "Conf_Labels = [0,1,2]\n",
    "conf_matrix = confusion_matrix(true, preds, Conf_Labels)\n",
    "fig = plt.figure()\n",
    "ax = fig.add_subplot(111)\n",
    "cax = ax.matshow(conf_matrix)\n",
    "plt.title('Confusion matrix')\n",
    "fig.colorbar(cax)\n",
    "ax.set_xticklabels([''] + Conf_Labels)\n",
    "ax.set_yticklabels([''] + Conf_Labels)\n",
    "plt.xlabel('Predicted')\n",
    "plt.ylabel('True')\n",
    "\n",
    "for i, j in itertools.product(range(conf_matrix.shape[0]), range(conf_matrix.shape[1])):\n",
    "        plt.text(j, i, format(conf_matrix[i, j]),horizontalalignment=\"center\",color=\"white\", fontsize=18)\n",
    "plt.show()\n",
    "\n"
   ]
  },
  {
   "cell_type": "code",
   "execution_count": 345,
   "metadata": {
    "scrolled": true
   },
   "outputs": [
    {
     "name": "stdout",
     "output_type": "stream",
     "text": [
      "(0, 1.111738681793213, 0.27011494252873564, 0.25806451612903225)\n",
      "Model File Saved !\n",
      "(50, 1.1617721319198608, 0.5689655172413793, 0.4838709677419355)\n",
      "Model File Saved !\n",
      "(100, 0.808106541633606, 0.632183908045977, 0.5161290322580645)\n",
      "Model File Saved !\n",
      "(150, 0.6556061506271362, 0.735632183908046, 0.6129032258064516)\n",
      "Model File Saved !\n",
      "(200, 0.45239004492759705, 0.7758620689655172, 0.6129032258064516)\n",
      "(250, 0.5738756060600281, 0.7758620689655172, 0.6129032258064516)\n",
      "(300, 0.5290581583976746, 0.7988505747126436, 0.5483870967741935)\n",
      "(350, 0.5624353885650635, 0.7931034482758621, 0.5483870967741935)\n",
      "(400, 0.3682890832424164, 0.8103448275862069, 0.4838709677419355)\n",
      "(450, 0.15060070157051086, 0.8160919540229885, 0.5161290322580645)\n",
      "(500, 0.38143157958984375, 0.8390804597701149, 0.5161290322580645)\n",
      "(550, 0.39412063360214233, 0.8448275862068966, 0.5161290322580645)\n",
      "(600, 0.22130770981311798, 0.8505747126436781, 0.5161290322580645)\n",
      "(650, 0.4254242479801178, 0.8563218390804598, 0.4838709677419355)\n",
      "(700, 0.4196566939353943, 0.8620689655172413, 0.5483870967741935)\n",
      "(750, 0.4564676582813263, 0.8793103448275862, 0.5161290322580645)\n",
      "(800, 0.17735497653484344, 0.896551724137931, 0.5483870967741935)\n",
      "(850, 0.2530496418476105, 0.8908045977011494, 0.5483870967741935)\n",
      "(900, 0.22624598443508148, 0.9022988505747126, 0.5483870967741935)\n",
      "(950, 0.08500552922487259, 0.8908045977011494, 0.4838709677419355)\n",
      "(1000, 0.14004693925380707, 0.9080459770114943, 0.5161290322580645)\n"
     ]
    }
   ],
   "source": [
    "mc = 0\n",
    "train_acc = []\n",
    "test_acc =  []\n",
    "acc = 0.0\n",
    "for epoch in range(num_epochs):\n",
    "    model.train()\n",
    "    mc = 0\n",
    "    for inp, out in data_loader:\n",
    "        model.zero_grad()\n",
    "        batch_size = inp.shape[0]\n",
    "        model.hidden = model.init_hidden(batch_size)\n",
    "        \n",
    "        inp = inp.transpose(1,0).transpose(0,2)\n",
    "        pred = model(inp)\n",
    "    \n",
    "        loss = loss_function(pred, out)\n",
    "        loss.backward()\n",
    "        \n",
    "        optimizer.step()\n",
    "        mc += ((torch.max(pred.data, 1)[1].long() == out.data).sum().item())\n",
    "        \n",
    "    if epoch % 50 == 0:\n",
    "        model.eval()\n",
    "        model.hidden = model.init_hidden(img_v1.shape[0])\n",
    "        yinit_v1 = model(img_v1.transpose(1,0).transpose(0,2))\n",
    "        test_acc.append(((accuracy(yinit_v1, lbl_v1) / float(img_v1.shape[0]))))\n",
    "        train_acc.append(mc/float(img.shape[0]))\n",
    "        print(epoch, loss.item(), mc/float(img.shape[0]), (accuracy(yinit_v1, lbl_v1)/ float(img_v1.shape[0])))\n",
    "        \n",
    "        if((accuracy(yinit_v1, lbl_v1)/ float(img_v1.shape[0])) > acc ):\n",
    "            torch.save(model.state_dict(), 'LSTMModel.pth')\n",
    "            acc = (accuracy(yinit_v1, lbl_v1)/ float(img_v1.shape[0]))\n",
    "            print('Model File Saved !')"
   ]
  },
  {
   "cell_type": "code",
   "execution_count": 346,
   "metadata": {},
   "outputs": [
    {
     "data": {
      "image/png": "[encoded data removed]",
      "text/plain": [
       "<Figure size 432x288 with 1 Axes>"
      ]
     },
     "metadata": {},
     "output_type": "display_data"
    }
   ],
   "source": [
    "t = np.arange(num_epochs//50 + 1)\n",
    "plt.plot(t, train_acc)\n",
    "plt.plot(t, test_acc)\n",
    "plt.legend(['Train_Accuracy', 'Testing_Accuracy'])\n",
    "plt.show()"
   ]
  },
  {
   "cell_type": "code",
   "execution_count": 347,
   "metadata": {},
   "outputs": [
    {
     "name": "stdout",
     "output_type": "stream",
     "text": [
      "Testing Accuracy: 0.61\n"
     ]
    }
   ],
   "source": [
    "model = LSTM(3).cuda()\n",
    "model.load_state_dict(torch.load('LSTMModel.pth'))\n",
    "\n",
    "batch_size = img_v1.shape[0]\n",
    "model.hidden = model.init_hidden(batch_size)\n",
    "yinit_v1 = model(img_v1.transpose(1,0).transpose(0,2))\n",
    "print(\"Testing Accuracy: {0:.2f}\".format(accuracy(yinit_v1, lbl_v1) / float(img_v1.shape[0])))"
   ]
  },
  {
   "cell_type": "code",
   "execution_count": 348,
   "metadata": {},
   "outputs": [
    {
     "data": {
      "image/png": "[encoded data removed]",
      "text/plain": [
       "<Figure size 432x288 with 2 Axes>"
      ]
     },
     "metadata": {},
     "output_type": "display_data"
    }
   ],
   "source": [
    "preds= torch.max(yinit_v1.data, 1)[1].cpu().numpy()\n",
    "true = lbl_v1.data.cpu().numpy()\n",
    "Conf_Labels = [0,1,2]\n",
    "conf_matrix = confusion_matrix(true, preds, Conf_Labels)\n",
    "fig = plt.figure()\n",
    "ax = fig.add_subplot(111)\n",
    "cax = ax.matshow(conf_matrix)\n",
    "plt.title('Confusion matrix')\n",
    "fig.colorbar(cax)\n",
    "ax.set_xticklabels([''] + Conf_Labels)\n",
    "ax.set_yticklabels([''] + Conf_Labels)\n",
    "plt.xlabel('Predicted')\n",
    "plt.ylabel('True')\n",
    "\n",
    "for i, j in itertools.product(range(conf_matrix.shape[0]), range(conf_matrix.shape[1])):\n",
    "        plt.text(j, i, format(conf_matrix[i, j]),horizontalalignment=\"center\",color=\"white\", fontsize=18)\n",
    "plt.show()"
   ]
  },
  {
   "cell_type": "code",
   "execution_count": null,
   "metadata": {},
   "outputs": [],
   "source": []
  }
 ],
 "metadata": {
  "kernelspec": {
   "display_name": "Python 2",
   "language": "python",
   "name": "python2"
  },
  "language_info": {
   "codemirror_mode": {
    "name": "ipython",
    "version": 2
   },
   "file_extension": ".py",
   "mimetype": "text/x-python",
   "name": "python",
   "nbconvert_exporter": "python",
   "pygments_lexer": "ipython2",
   "version": "2.7.14"
  }
 },
 "nbformat": 4,
 "nbformat_minor": 2
}
